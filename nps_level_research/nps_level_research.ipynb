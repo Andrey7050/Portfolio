{
 "cells": [
  {
   "cell_type": "markdown",
   "id": "2c15ff50",
   "metadata": {},
   "source": [
    "# Исследование опроса клиентов телекомунникацонной компании"
   ]
  },
  {
   "cell_type": "markdown",
   "id": "839667e8",
   "metadata": {},
   "source": [
    "**Описание проекта**"
   ]
  },
  {
   "cell_type": "markdown",
   "id": "8a924e35",
   "metadata": {},
   "source": [
    "Заказчик данного исследования — большая телекоммуникационная компания, которая оказывает услуги на территории всего СНГ. Перед компанией стоит задача определить текущий уровень потребительской лояльности, или NPS (от англ. Net Promoter Score), среди клиентов из России.\n",
    "\n",
    "Компания провела опрос и попросила вас подготовить дашборд с его итогами. Большую базу данных для такой задачи разворачивать не стали и выгрузили данные в SQLite.\n",
    "\n",
    "Чтобы оценить результаты опроса, оценки обычно делят на три группы:\n",
    "\n",
    "- **9-10 баллов** — «cторонники» (англ. promoters);\n",
    "- **7-8 баллов** — «нейтралы» (англ. passives);\n",
    "- **0-6 баллов** — «критики» (англ. detractors).\n",
    "\n",
    "Итоговое значение NPS рассчитывается по формуле: % «сторонников» - % «критиков»."
   ]
  },
  {
   "cell_type": "markdown",
   "id": "05faef94",
   "metadata": {},
   "source": [
    "**Цель проекта**"
   ]
  },
  {
   "cell_type": "markdown",
   "id": "03d8ea40",
   "metadata": {},
   "source": [
    "Изучить предоставленные данные и ответить на следующие вопросы. Как распределены участники опроса по возрасту, полу и возрасту? Каких пользователей больше: новых или старых? Пользователи из каких городов активнее участвовали в опросе?\n",
    "\n",
    "- Какие группы пользователей наиболее лояльны к сервису? Какие менее?\n",
    "\n",
    "- Какой общий NPS среди всех опрошенных?\n",
    "\n",
    "- Как можно описать клиентов, которые относятся к группе cторонников (англ. promoters)?"
   ]
  },
  {
   "cell_type": "markdown",
   "id": "0c9236cf",
   "metadata": {},
   "source": [
    "### Загрузка данных"
   ]
  },
  {
   "cell_type": "code",
   "execution_count": 3,
   "id": "f547d51c",
   "metadata": {},
   "outputs": [],
   "source": [
    "import os\n",
    "import pandas as pd\n",
    "from sqlalchemy import create_engine\n",
    "\n",
    "# путь к БД на вашем компьютере (например, в той же папке, что и тетрадь)\n",
    "path_to_db_local ='F:/Обучение/Обучение програмированию/telecomm_csi.db'\n",
    "# путь к БД на платформе\n",
    "path_to_db_platform = '/datasets/telecomm_csi.db'\n",
    "# итоговый путь к БД\n",
    "path_to_db = None\n",
    "\n",
    "# если путь на вашем компьютере ведёт к БД, то он становится итоговым\n",
    "if os.path.exists(path_to_db_local):\n",
    "    path_to_db = path_to_db_local\n",
    "# иначе: если путь на платформе ведёт к БД, то он становится итоговым\n",
    "elif os.path.exists(path_to_db_platform):\n",
    "    path_to_db = path_to_db_platform\n",
    "# иначе выводится сообщение о том, что файл не найден\n",
    "else:\n",
    "    raise Exception('Файл с базой данных SQLite не найден!')\n",
    "\n",
    "# если итоговый путь не пустой\n",
    "if path_to_db:\n",
    "    # то создаём подключение к базе\n",
    "    engine = create_engine(f'sqlite:///{path_to_db}', echo=False)\n",
    "    \n",
    "    # пример запроса\n",
    "    query = \"\"\"\n",
    "SELECT u.user_id,\n",
    "       u.lt_day,\n",
    "       CASE \n",
    "           WHEN u.lt_day <= 365 THEN 'Новый'\n",
    "           ELSE 'Старый'\n",
    "           END AS is_new,\n",
    "       u.age,\n",
    "       CASE \n",
    "           WHEN u.gender_segment == 1 THEN 'Женщина'\n",
    "           WHEN u.gender_segment == 0 THEN 'Мужчина'\n",
    "           ELSE 'z'\n",
    "           END AS gender_segment,\n",
    "       u.os_name,\n",
    "       u.cpe_type_name,\n",
    "       location.country,\n",
    "       location.city,\n",
    "       SUBSTR(age_segment.title, 4) AS age_segment,\n",
    "       SUBSTR(traffic_segment.title, 4) AS traffic_segment,\n",
    "       SUBSTR(lifetime_segment.title, 4) AS lifetime_segment,\n",
    "       u.nps_score,\n",
    "       CASE \n",
    "           WHEN u.nps_score >= 9 THEN 'Cторонник'\n",
    "           WHEN u.nps_score >= 7 THEN 'Нейтрал'\n",
    "           ELSE 'Критик'\n",
    "           END AS nps_group\n",
    "FROM user AS u\n",
    "JOIN location ON u.location_id = location.location_id\n",
    "JOIN age_segment ON u.age_gr_id = age_segment.age_gr_id\n",
    "JOIN traffic_segment ON u.tr_gr_id = traffic_segment.tr_gr_id\n",
    "JOIN lifetime_segment ON u.lt_gr_id = lifetime_segment.lt_gr_id;\n",
    "\"\"\"\n",
    "    \n",
    "    # создаём датафрейм по данным запроса\n",
    "    df = pd.read_sql(query, engine) "
   ]
  },
  {
   "cell_type": "code",
   "execution_count": 4,
   "id": "aa653deb",
   "metadata": {},
   "outputs": [
    {
     "data": {
      "text/html": [
       "<div>\n",
       "<style scoped>\n",
       "    .dataframe tbody tr th:only-of-type {\n",
       "        vertical-align: middle;\n",
       "    }\n",
       "\n",
       "    .dataframe tbody tr th {\n",
       "        vertical-align: top;\n",
       "    }\n",
       "\n",
       "    .dataframe thead th {\n",
       "        text-align: right;\n",
       "    }\n",
       "</style>\n",
       "<table border=\"1\" class=\"dataframe\">\n",
       "  <thead>\n",
       "    <tr style=\"text-align: right;\">\n",
       "      <th></th>\n",
       "      <th>user_id</th>\n",
       "      <th>lt_day</th>\n",
       "      <th>is_new</th>\n",
       "      <th>age</th>\n",
       "      <th>gender_segment</th>\n",
       "      <th>os_name</th>\n",
       "      <th>cpe_type_name</th>\n",
       "      <th>country</th>\n",
       "      <th>city</th>\n",
       "      <th>age_segment</th>\n",
       "      <th>traffic_segment</th>\n",
       "      <th>lifetime_segment</th>\n",
       "      <th>nps_score</th>\n",
       "      <th>nps_group</th>\n",
       "    </tr>\n",
       "  </thead>\n",
       "  <tbody>\n",
       "    <tr>\n",
       "      <th>377010</th>\n",
       "      <td>TI6O84</td>\n",
       "      <td>886</td>\n",
       "      <td>Старый</td>\n",
       "      <td>43.0</td>\n",
       "      <td>Женщина</td>\n",
       "      <td>IOS</td>\n",
       "      <td>SMARTPHONE</td>\n",
       "      <td>Россия</td>\n",
       "      <td>Екатеринбург</td>\n",
       "      <td>35-44</td>\n",
       "      <td>1-5</td>\n",
       "      <td>25-36</td>\n",
       "      <td>10</td>\n",
       "      <td>Cторонник</td>\n",
       "    </tr>\n",
       "    <tr>\n",
       "      <th>191345</th>\n",
       "      <td>JVYPF5</td>\n",
       "      <td>1078</td>\n",
       "      <td>Старый</td>\n",
       "      <td>24.0</td>\n",
       "      <td>Мужчина</td>\n",
       "      <td>PROPRIETARY</td>\n",
       "      <td>PHONE</td>\n",
       "      <td>Россия</td>\n",
       "      <td>Рязань</td>\n",
       "      <td>16-24</td>\n",
       "      <td>10-15</td>\n",
       "      <td>25-36</td>\n",
       "      <td>9</td>\n",
       "      <td>Cторонник</td>\n",
       "    </tr>\n",
       "    <tr>\n",
       "      <th>388233</th>\n",
       "      <td>U397G0</td>\n",
       "      <td>674</td>\n",
       "      <td>Старый</td>\n",
       "      <td>40.0</td>\n",
       "      <td>Женщина</td>\n",
       "      <td>ANDROID</td>\n",
       "      <td>SMARTPHONE</td>\n",
       "      <td>Россия</td>\n",
       "      <td>Ижевск</td>\n",
       "      <td>35-44</td>\n",
       "      <td>10-15</td>\n",
       "      <td>13-24</td>\n",
       "      <td>10</td>\n",
       "      <td>Cторонник</td>\n",
       "    </tr>\n",
       "    <tr>\n",
       "      <th>234679</th>\n",
       "      <td>M4TS6D</td>\n",
       "      <td>3575</td>\n",
       "      <td>Старый</td>\n",
       "      <td>59.0</td>\n",
       "      <td>Женщина</td>\n",
       "      <td>ANDROID</td>\n",
       "      <td>SMARTPHONE</td>\n",
       "      <td>Россия</td>\n",
       "      <td>Новосибирск</td>\n",
       "      <td>55-64</td>\n",
       "      <td>5-10</td>\n",
       "      <td>36+</td>\n",
       "      <td>10</td>\n",
       "      <td>Cторонник</td>\n",
       "    </tr>\n",
       "    <tr>\n",
       "      <th>357292</th>\n",
       "      <td>SHDQFT</td>\n",
       "      <td>446</td>\n",
       "      <td>Старый</td>\n",
       "      <td>34.0</td>\n",
       "      <td>Женщина</td>\n",
       "      <td>ANDROID</td>\n",
       "      <td>SMARTPHONE</td>\n",
       "      <td>Россия</td>\n",
       "      <td>Курск</td>\n",
       "      <td>25-34</td>\n",
       "      <td>20-25</td>\n",
       "      <td>13-24</td>\n",
       "      <td>5</td>\n",
       "      <td>Критик</td>\n",
       "    </tr>\n",
       "    <tr>\n",
       "      <th>106704</th>\n",
       "      <td>FHSSUB</td>\n",
       "      <td>191</td>\n",
       "      <td>Новый</td>\n",
       "      <td>38.0</td>\n",
       "      <td>Женщина</td>\n",
       "      <td>ANDROID</td>\n",
       "      <td>SMARTPHONE</td>\n",
       "      <td>Россия</td>\n",
       "      <td>Тула</td>\n",
       "      <td>35-44</td>\n",
       "      <td>10-15</td>\n",
       "      <td>7-12</td>\n",
       "      <td>10</td>\n",
       "      <td>Cторонник</td>\n",
       "    </tr>\n",
       "    <tr>\n",
       "      <th>486950</th>\n",
       "      <td>Z6SR7M</td>\n",
       "      <td>2866</td>\n",
       "      <td>Старый</td>\n",
       "      <td>42.0</td>\n",
       "      <td>Женщина</td>\n",
       "      <td>ANDROID</td>\n",
       "      <td>SMARTPHONE</td>\n",
       "      <td>Россия</td>\n",
       "      <td>Иркутск</td>\n",
       "      <td>35-44</td>\n",
       "      <td>0.1-1</td>\n",
       "      <td>36+</td>\n",
       "      <td>8</td>\n",
       "      <td>Нейтрал</td>\n",
       "    </tr>\n",
       "    <tr>\n",
       "      <th>287967</th>\n",
       "      <td>OW9OHH</td>\n",
       "      <td>795</td>\n",
       "      <td>Старый</td>\n",
       "      <td>35.0</td>\n",
       "      <td>Мужчина</td>\n",
       "      <td>ANDROID</td>\n",
       "      <td>SMARTPHONE</td>\n",
       "      <td>Россия</td>\n",
       "      <td>Москва</td>\n",
       "      <td>35-44</td>\n",
       "      <td>5-10</td>\n",
       "      <td>25-36</td>\n",
       "      <td>5</td>\n",
       "      <td>Критик</td>\n",
       "    </tr>\n",
       "    <tr>\n",
       "      <th>48776</th>\n",
       "      <td>CIOX5Z</td>\n",
       "      <td>178</td>\n",
       "      <td>Новый</td>\n",
       "      <td>30.0</td>\n",
       "      <td>Мужчина</td>\n",
       "      <td>IOS</td>\n",
       "      <td>SMARTPHONE</td>\n",
       "      <td>Россия</td>\n",
       "      <td>Новосибирск</td>\n",
       "      <td>25-34</td>\n",
       "      <td>30-35</td>\n",
       "      <td>4-6</td>\n",
       "      <td>5</td>\n",
       "      <td>Критик</td>\n",
       "    </tr>\n",
       "    <tr>\n",
       "      <th>267444</th>\n",
       "      <td>NU34D4</td>\n",
       "      <td>525</td>\n",
       "      <td>Старый</td>\n",
       "      <td>63.0</td>\n",
       "      <td>Мужчина</td>\n",
       "      <td>ANDROID</td>\n",
       "      <td>SMARTPHONE</td>\n",
       "      <td>Россия</td>\n",
       "      <td>Красноярск</td>\n",
       "      <td>55-64</td>\n",
       "      <td>55-60</td>\n",
       "      <td>13-24</td>\n",
       "      <td>10</td>\n",
       "      <td>Cторонник</td>\n",
       "    </tr>\n",
       "  </tbody>\n",
       "</table>\n",
       "</div>"
      ],
      "text/plain": [
       "       user_id  lt_day  is_new   age gender_segment      os_name  \\\n",
       "377010  TI6O84     886  Старый  43.0        Женщина          IOS   \n",
       "191345  JVYPF5    1078  Старый  24.0        Мужчина  PROPRIETARY   \n",
       "388233  U397G0     674  Старый  40.0        Женщина      ANDROID   \n",
       "234679  M4TS6D    3575  Старый  59.0        Женщина      ANDROID   \n",
       "357292  SHDQFT     446  Старый  34.0        Женщина      ANDROID   \n",
       "106704  FHSSUB     191   Новый  38.0        Женщина      ANDROID   \n",
       "486950  Z6SR7M    2866  Старый  42.0        Женщина      ANDROID   \n",
       "287967  OW9OHH     795  Старый  35.0        Мужчина      ANDROID   \n",
       "48776   CIOX5Z     178   Новый  30.0        Мужчина          IOS   \n",
       "267444  NU34D4     525  Старый  63.0        Мужчина      ANDROID   \n",
       "\n",
       "       cpe_type_name country          city age_segment traffic_segment  \\\n",
       "377010    SMARTPHONE  Россия  Екатеринбург       35-44             1-5   \n",
       "191345         PHONE  Россия        Рязань       16-24           10-15   \n",
       "388233    SMARTPHONE  Россия        Ижевск       35-44           10-15   \n",
       "234679    SMARTPHONE  Россия   Новосибирск       55-64            5-10   \n",
       "357292    SMARTPHONE  Россия         Курск       25-34           20-25   \n",
       "106704    SMARTPHONE  Россия          Тула       35-44           10-15   \n",
       "486950    SMARTPHONE  Россия       Иркутск       35-44           0.1-1   \n",
       "287967    SMARTPHONE  Россия        Москва       35-44            5-10   \n",
       "48776     SMARTPHONE  Россия   Новосибирск       25-34           30-35   \n",
       "267444    SMARTPHONE  Россия    Красноярск       55-64           55-60   \n",
       "\n",
       "       lifetime_segment  nps_score  nps_group  \n",
       "377010            25-36         10  Cторонник  \n",
       "191345            25-36          9  Cторонник  \n",
       "388233            13-24         10  Cторонник  \n",
       "234679              36+         10  Cторонник  \n",
       "357292            13-24          5     Критик  \n",
       "106704             7-12         10  Cторонник  \n",
       "486950              36+          8    Нейтрал  \n",
       "287967            25-36          5     Критик  \n",
       "48776               4-6          5     Критик  \n",
       "267444            13-24         10  Cторонник  "
      ]
     },
     "execution_count": 4,
     "metadata": {},
     "output_type": "execute_result"
    }
   ],
   "source": [
    "df.sample(10)"
   ]
  },
  {
   "cell_type": "markdown",
   "id": "f4d0ca81",
   "metadata": {},
   "source": [
    "### Описание данных"
   ]
  },
  {
   "cell_type": "markdown",
   "id": "4bba87aa",
   "metadata": {},
   "source": [
    "- **user_id** — идентификатор клиента \n",
    "- **lt_day** — количество дней «жизни» клиента \n",
    "- **is_new** — поле хранит информацию о том, является ли клиент новым \n",
    "- **age** — возраст gender_segment — пол os_name — тип операционной системы \n",
    "- **cpe_type_name** — тип устройства \n",
    "- **country** — страна проживания \n",
    "- **city** — город проживания \n",
    "- **age_segment** — возрастной сегмент \n",
    "- **traffic_segment** — сегмент по объёму потребляемого трафика \n",
    "- **lifetime_segment** — сегмент по количеству дней «жизни» nps_score — оценка клиента в NPS-опросе \n",
    "- **nps_group** — поле хранит информацию о том, к какой группе относится оценка клиента в опросе"
   ]
  },
  {
   "cell_type": "code",
   "execution_count": 6,
   "id": "e81396cd",
   "metadata": {},
   "outputs": [
    {
     "name": "stdout",
     "output_type": "stream",
     "text": [
      "<class 'pandas.core.frame.DataFrame'>\n",
      "RangeIndex: 502493 entries, 0 to 502492\n",
      "Data columns (total 14 columns):\n",
      " #   Column            Non-Null Count   Dtype  \n",
      "---  ------            --------------   -----  \n",
      " 0   user_id           502493 non-null  object \n",
      " 1   lt_day            502493 non-null  int64  \n",
      " 2   is_new            502493 non-null  object \n",
      " 3   age               501939 non-null  float64\n",
      " 4   gender_segment    502493 non-null  object \n",
      " 5   os_name           502493 non-null  object \n",
      " 6   cpe_type_name     502493 non-null  object \n",
      " 7   country           502493 non-null  object \n",
      " 8   city              502493 non-null  object \n",
      " 9   age_segment       502493 non-null  object \n",
      " 10  traffic_segment   502493 non-null  object \n",
      " 11  lifetime_segment  502493 non-null  object \n",
      " 12  nps_score         502493 non-null  int64  \n",
      " 13  nps_group         502493 non-null  object \n",
      "dtypes: float64(1), int64(2), object(11)\n",
      "memory usage: 53.7+ MB\n"
     ]
    }
   ],
   "source": [
    "df.info()"
   ]
  },
  {
   "cell_type": "markdown",
   "id": "e1687255",
   "metadata": {},
   "source": [
    "### Сохранение данных "
   ]
  },
  {
   "cell_type": "code",
   "execution_count": 7,
   "id": "767d3189",
   "metadata": {},
   "outputs": [],
   "source": [
    "df.to_csv('telecomm_csi_tableau.csv', index=False)"
   ]
  },
  {
   "cell_type": "markdown",
   "id": "58e2dd2d",
   "metadata": {},
   "source": [
    "### Дашборд исследования NPS"
   ]
  },
  {
   "cell_type": "markdown",
   "id": "ff9a72df",
   "metadata": {},
   "source": [
    "[Ссылка на исследование уровня потребительской лояльности (уровень NPS) ver. 1.1.](https://public.tableau.com/app/profile/andrey.manannikov/viz/NPSManannikovA_A_/Story1?publish=yes)"
   ]
  },
  {
   "cell_type": "markdown",
   "id": "5f9cff19",
   "metadata": {},
   "source": [
    "### Исседование NPS в PDF формате "
   ]
  },
  {
   "cell_type": "markdown",
   "id": "c6d156ff",
   "metadata": {},
   "source": [
    "[Ссылка на исселедования уровня потребительской лояльности (уровень NPS) ver. 1.1.](https://disk.yandex.ru/d/sBA5ThMDUa8LQg)"
   ]
  }
 ],
 "metadata": {
  "ExecuteTimeLog": [
   {
    "duration": 497,
    "start_time": "2024-02-03T16:11:16.587Z"
   },
   {
    "duration": 104,
    "start_time": "2024-02-03T16:11:17.979Z"
   },
   {
    "duration": 110,
    "start_time": "2024-02-03T16:12:10.627Z"
   },
   {
    "duration": 88,
    "start_time": "2024-02-03T16:12:11.149Z"
   },
   {
    "duration": 3488,
    "start_time": "2024-02-03T16:52:19.316Z"
   },
   {
    "duration": 5258,
    "start_time": "2024-02-03T16:56:05.786Z"
   },
   {
    "duration": 32,
    "start_time": "2024-02-03T16:56:26.290Z"
   },
   {
    "duration": 4301,
    "start_time": "2024-02-03T17:22:41.556Z"
   },
   {
    "duration": 532,
    "start_time": "2024-02-08T07:58:02.406Z"
   },
   {
    "duration": 3,
    "start_time": "2024-02-08T07:58:04.326Z"
   },
   {
    "duration": 73,
    "start_time": "2024-02-08T07:58:38.974Z"
   },
   {
    "duration": 3,
    "start_time": "2024-02-08T07:58:53.368Z"
   },
   {
    "duration": 3,
    "start_time": "2024-02-08T07:58:53.929Z"
   },
   {
    "duration": 9,
    "start_time": "2024-02-08T07:58:54.653Z"
   },
   {
    "duration": 6180,
    "start_time": "2024-02-08T07:59:25.089Z"
   },
   {
    "duration": 35,
    "start_time": "2024-02-08T07:59:31.271Z"
   },
   {
    "duration": 576,
    "start_time": "2024-02-08T08:00:34.239Z"
   },
   {
    "duration": 4668,
    "start_time": "2024-02-08T08:00:53.322Z"
   },
   {
    "duration": 6549,
    "start_time": "2024-02-12T16:30:07.758Z"
   },
   {
    "duration": 34,
    "start_time": "2024-02-12T16:30:14.309Z"
   },
   {
    "duration": 5081,
    "start_time": "2024-02-12T16:32:03.496Z"
   },
   {
    "duration": 5933,
    "start_time": "2024-02-12T16:32:19.158Z"
   },
   {
    "duration": 32,
    "start_time": "2024-02-12T16:32:25.093Z"
   },
   {
    "duration": 524,
    "start_time": "2024-02-12T16:32:37.453Z"
   },
   {
    "duration": 4979,
    "start_time": "2024-02-12T16:32:43.212Z"
   },
   {
    "duration": 478,
    "start_time": "2024-02-12T16:32:49.702Z"
   },
   {
    "duration": 492,
    "start_time": "2024-02-12T16:33:14.244Z"
   },
   {
    "duration": 4835,
    "start_time": "2024-02-12T16:33:15.388Z"
   }
  ],
  "kernelspec": {
   "display_name": "Python 3 (ipykernel)",
   "language": "python",
   "name": "python3"
  },
  "language_info": {
   "codemirror_mode": {
    "name": "ipython",
    "version": 3
   },
   "file_extension": ".py",
   "mimetype": "text/x-python",
   "name": "python",
   "nbconvert_exporter": "python",
   "pygments_lexer": "ipython3",
   "version": "3.11.5"
  },
  "toc": {
   "base_numbering": 1,
   "nav_menu": {},
   "number_sections": true,
   "sideBar": true,
   "skip_h1_title": true,
   "title_cell": "Table of Contents",
   "title_sidebar": "Contents",
   "toc_cell": false,
   "toc_position": {},
   "toc_section_display": true,
   "toc_window_display": false
  }
 },
 "nbformat": 4,
 "nbformat_minor": 5
}
